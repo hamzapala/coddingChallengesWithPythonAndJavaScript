{
 "cells": [
  {
   "cell_type": "markdown",
   "metadata": {},
   "source": [
    "Purpose of the this coding challenge is to write a code that given a number, returns the corresponding\n",
    "Fibonacci number.\n",
    "Problem Statement\n",
    "Create a function that, given a number, returns the corresponding Fibonacci number.\n",
    "Examples:\n",
    "fibonacci(7) ➞ 21\n",
    "fibonacci(12) ➞ 233\n",
    "The first number in the sequence starts at 1 (not 0)"
   ]
  },
  {
   "cell_type": "code",
   "execution_count": 11,
   "metadata": {},
   "outputs": [
    {
     "name": "stdout",
     "output_type": "stream",
     "text": [
      "fibonacci(12) --> 233\n"
     ]
    }
   ],
   "source": [
    "myNum = int(input(\"which rank of fibonacci number do you want?\"))\n",
    "myList = [1, 1]\n",
    "def fibonacci(myNum):\n",
    "    while myNum >= len(myList):\n",
    "        myList.append(myList[-1] + myList[-2])\n",
    "    return (f'fibonacci({myNum}) --> {myList[-1]}')\n",
    "\n",
    "print(fibonacci(myNum))\n"
   ]
  }
 ],
 "metadata": {
  "interpreter": {
   "hash": "b89b5cfaba6639976dc87ff2fec6d58faec662063367e2c229c520fe71072417"
  },
  "kernelspec": {
   "display_name": "Python 3.10.0 64-bit",
   "language": "python",
   "name": "python3"
  },
  "language_info": {
   "codemirror_mode": {
    "name": "ipython",
    "version": 3
   },
   "file_extension": ".py",
   "mimetype": "text/x-python",
   "name": "python",
   "nbconvert_exporter": "python",
   "pygments_lexer": "ipython3",
   "version": "3.10.0"
  },
  "orig_nbformat": 4
 },
 "nbformat": 4,
 "nbformat_minor": 2
}
